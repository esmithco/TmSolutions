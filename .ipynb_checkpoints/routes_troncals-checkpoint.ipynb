{
 "cells": [
  {
   "cell_type": "code",
   "execution_count": 1,
   "id": "19626a8a",
   "metadata": {},
   "outputs": [],
   "source": [
    "import pandas as pd"
   ]
  },
  {
   "cell_type": "code",
   "execution_count": 2,
   "id": "8fad1e7a",
   "metadata": {},
   "outputs": [],
   "source": [
    "df_tm = pd.read_csv('Rutas_Troncales_de_TRANSMILENIO.csv')"
   ]
  },
  {
   "cell_type": "code",
   "execution_count": 5,
   "id": "d38ae845",
   "metadata": {},
   "outputs": [],
   "source": [
    "df_tm = pd.DataFrame(df_tm)"
   ]
  },
  {
   "cell_type": "code",
   "execution_count": 9,
   "id": "80ba899c",
   "metadata": {},
   "outputs": [
    {
     "data": {
      "text/plain": [
       "RangeIndex(start=0, stop=124, step=1)"
      ]
     },
     "execution_count": 9,
     "metadata": {},
     "output_type": "execute_result"
    }
   ],
   "source": [
    "df_tm.index"
   ]
  },
  {
   "cell_type": "code",
   "execution_count": 14,
   "id": "1b43b037",
   "metadata": {},
   "outputs": [
    {
     "data": {
      "text/html": [
       "<div>\n",
       "<style scoped>\n",
       "    .dataframe tbody tr th:only-of-type {\n",
       "        vertical-align: middle;\n",
       "    }\n",
       "\n",
       "    .dataframe tbody tr th {\n",
       "        vertical-align: top;\n",
       "    }\n",
       "\n",
       "    .dataframe thead th {\n",
       "        text-align: right;\n",
       "    }\n",
       "</style>\n",
       "<table border=\"1\" class=\"dataframe\">\n",
       "  <thead>\n",
       "    <tr style=\"text-align: right;\">\n",
       "      <th></th>\n",
       "      <th>objectid</th>\n",
       "      <th>route_name_ruta_troncal</th>\n",
       "      <th>nombre_ruta_troncal</th>\n",
       "      <th>servicio_unico_ruta_troncal</th>\n",
       "      <th>origen_ruta_troncal</th>\n",
       "      <th>destino_ruta_troncal</th>\n",
       "      <th>tipo_ruta_troncal</th>\n",
       "      <th>tipo_operacion</th>\n",
       "      <th>tipo_bus_ruta_troncal</th>\n",
       "      <th>estado_ruta_troncal</th>\n",
       "      <th>longitud_ruta_troncal</th>\n",
       "      <th>globalid</th>\n",
       "    </tr>\n",
       "  </thead>\n",
       "  <tbody>\n",
       "    <tr>\n",
       "      <th>0</th>\n",
       "      <td>1</td>\n",
       "      <td>M86-K86CV</td>\n",
       "      <td>M86-K86CV</td>\n",
       "      <td>M86-K86</td>\n",
       "      <td>AEROPUERTO EL DORADO</td>\n",
       "      <td>HACIENDA SANTA BARBARA</td>\n",
       "      <td>DUAL</td>\n",
       "      <td>Ciclovia</td>\n",
       "      <td>DUAL</td>\n",
       "      <td>OPERATIVA</td>\n",
       "      <td>53.627651</td>\n",
       "      <td>{3E7EA1AA-FD8B-4358-A23A-09F753C45346}</td>\n",
       "    </tr>\n",
       "    <tr>\n",
       "      <th>1</th>\n",
       "      <td>2</td>\n",
       "      <td>1-1</td>\n",
       "      <td>1 U</td>\n",
       "      <td>1</td>\n",
       "      <td>UNIVERSIDADES</td>\n",
       "      <td>PORTAL ELDORADO</td>\n",
       "      <td>TRONCAL</td>\n",
       "      <td>Normal</td>\n",
       "      <td>BIARTICULADO</td>\n",
       "      <td>OPERATIVA</td>\n",
       "      <td>11.819231</td>\n",
       "      <td>{E7A0492E-2EE7-437C-8115-ADB66463EEE8}</td>\n",
       "    </tr>\n",
       "  </tbody>\n",
       "</table>\n",
       "</div>"
      ],
      "text/plain": [
       "   objectid route_name_ruta_troncal nombre_ruta_troncal  \\\n",
       "0         1               M86-K86CV           M86-K86CV   \n",
       "1         2                     1-1                 1 U   \n",
       "\n",
       "  servicio_unico_ruta_troncal   origen_ruta_troncal    destino_ruta_troncal  \\\n",
       "0                     M86-K86  AEROPUERTO EL DORADO  HACIENDA SANTA BARBARA   \n",
       "1                           1         UNIVERSIDADES         PORTAL ELDORADO   \n",
       "\n",
       "  tipo_ruta_troncal tipo_operacion tipo_bus_ruta_troncal estado_ruta_troncal  \\\n",
       "0              DUAL       Ciclovia                  DUAL           OPERATIVA   \n",
       "1           TRONCAL         Normal          BIARTICULADO           OPERATIVA   \n",
       "\n",
       "   longitud_ruta_troncal                                globalid  \n",
       "0              53.627651  {3E7EA1AA-FD8B-4358-A23A-09F753C45346}  \n",
       "1              11.819231  {E7A0492E-2EE7-437C-8115-ADB66463EEE8}  "
      ]
     },
     "execution_count": 14,
     "metadata": {},
     "output_type": "execute_result"
    }
   ],
   "source": [
    "df_tm[0:2]"
   ]
  }
 ],
 "metadata": {
  "kernelspec": {
   "display_name": "Python 3 (ipykernel)",
   "language": "python",
   "name": "python3"
  },
  "language_info": {
   "codemirror_mode": {
    "name": "ipython",
    "version": 3
   },
   "file_extension": ".py",
   "mimetype": "text/x-python",
   "name": "python",
   "nbconvert_exporter": "python",
   "pygments_lexer": "ipython3",
   "version": "3.9.13"
  }
 },
 "nbformat": 4,
 "nbformat_minor": 5
}
